{
 "cells": [
  {
   "cell_type": "code",
   "execution_count": 1,
   "metadata": {},
   "outputs": [],
   "source": [
    "# import packages\n",
    "import pandas as pd\n",
    "import numpy as np\n",
    "import matplotlib.pyplot as plt\n",
    "%matplotlib inline"
   ]
  },
  {
   "cell_type": "code",
   "execution_count": 2,
   "metadata": {},
   "outputs": [],
   "source": [
    "df = pd.read_csv('Slump.csv',sep= '\\t')"
   ]
  },
  {
   "cell_type": "code",
   "execution_count": 3,
   "metadata": {},
   "outputs": [
    {
     "data": {
      "text/html": [
       "<div>\n",
       "<style scoped>\n",
       "    .dataframe tbody tr th:only-of-type {\n",
       "        vertical-align: middle;\n",
       "    }\n",
       "\n",
       "    .dataframe tbody tr th {\n",
       "        vertical-align: top;\n",
       "    }\n",
       "\n",
       "    .dataframe thead th {\n",
       "        text-align: right;\n",
       "    }\n",
       "</style>\n",
       "<table border=\"1\" class=\"dataframe\">\n",
       "  <thead>\n",
       "    <tr style=\"text-align: right;\">\n",
       "      <th></th>\n",
       "      <th>Cement</th>\n",
       "      <th>Slag</th>\n",
       "      <th>Fly ash</th>\n",
       "      <th>Water</th>\n",
       "      <th>SP</th>\n",
       "      <th>Coarse Aggr.</th>\n",
       "      <th>Fine Aggr.</th>\n",
       "      <th>SLUMP(cm)</th>\n",
       "      <th>FLOW(cm)</th>\n",
       "      <th>Compressive Strength (28-day)(Mpa)</th>\n",
       "    </tr>\n",
       "  </thead>\n",
       "  <tbody>\n",
       "    <tr>\n",
       "      <th>0</th>\n",
       "      <td>273.0</td>\n",
       "      <td>82.0</td>\n",
       "      <td>105.0</td>\n",
       "      <td>210.0</td>\n",
       "      <td>9.0</td>\n",
       "      <td>904.0</td>\n",
       "      <td>680.0</td>\n",
       "      <td>23.0</td>\n",
       "      <td>62.0</td>\n",
       "      <td>34.99</td>\n",
       "    </tr>\n",
       "    <tr>\n",
       "      <th>1</th>\n",
       "      <td>163.0</td>\n",
       "      <td>149.0</td>\n",
       "      <td>191.0</td>\n",
       "      <td>180.0</td>\n",
       "      <td>12.0</td>\n",
       "      <td>843.0</td>\n",
       "      <td>746.0</td>\n",
       "      <td>0.0</td>\n",
       "      <td>20.0</td>\n",
       "      <td>41.14</td>\n",
       "    </tr>\n",
       "    <tr>\n",
       "      <th>2</th>\n",
       "      <td>162.0</td>\n",
       "      <td>148.0</td>\n",
       "      <td>191.0</td>\n",
       "      <td>179.0</td>\n",
       "      <td>16.0</td>\n",
       "      <td>840.0</td>\n",
       "      <td>743.0</td>\n",
       "      <td>1.0</td>\n",
       "      <td>20.0</td>\n",
       "      <td>41.81</td>\n",
       "    </tr>\n",
       "    <tr>\n",
       "      <th>3</th>\n",
       "      <td>162.0</td>\n",
       "      <td>148.0</td>\n",
       "      <td>190.0</td>\n",
       "      <td>179.0</td>\n",
       "      <td>19.0</td>\n",
       "      <td>838.0</td>\n",
       "      <td>741.0</td>\n",
       "      <td>3.0</td>\n",
       "      <td>21.5</td>\n",
       "      <td>42.08</td>\n",
       "    </tr>\n",
       "    <tr>\n",
       "      <th>4</th>\n",
       "      <td>154.0</td>\n",
       "      <td>112.0</td>\n",
       "      <td>144.0</td>\n",
       "      <td>220.0</td>\n",
       "      <td>10.0</td>\n",
       "      <td>923.0</td>\n",
       "      <td>658.0</td>\n",
       "      <td>20.0</td>\n",
       "      <td>64.0</td>\n",
       "      <td>26.82</td>\n",
       "    </tr>\n",
       "  </tbody>\n",
       "</table>\n",
       "</div>"
      ],
      "text/plain": [
       "   Cement   Slag  Fly ash  Water    SP  Coarse Aggr.  Fine Aggr.  SLUMP(cm)  \\\n",
       "0   273.0   82.0    105.0  210.0   9.0         904.0       680.0       23.0   \n",
       "1   163.0  149.0    191.0  180.0  12.0         843.0       746.0        0.0   \n",
       "2   162.0  148.0    191.0  179.0  16.0         840.0       743.0        1.0   \n",
       "3   162.0  148.0    190.0  179.0  19.0         838.0       741.0        3.0   \n",
       "4   154.0  112.0    144.0  220.0  10.0         923.0       658.0       20.0   \n",
       "\n",
       "   FLOW(cm)  Compressive Strength (28-day)(Mpa)  \n",
       "0      62.0                               34.99  \n",
       "1      20.0                               41.14  \n",
       "2      20.0                               41.81  \n",
       "3      21.5                               42.08  \n",
       "4      64.0                               26.82  "
      ]
     },
     "execution_count": 3,
     "metadata": {},
     "output_type": "execute_result"
    }
   ],
   "source": [
    "df.head()"
   ]
  },
  {
   "cell_type": "code",
   "execution_count": 4,
   "metadata": {},
   "outputs": [
    {
     "data": {
      "text/plain": [
       "(103, 10)"
      ]
     },
     "execution_count": 4,
     "metadata": {},
     "output_type": "execute_result"
    }
   ],
   "source": [
    "df.shape"
   ]
  },
  {
   "cell_type": "code",
   "execution_count": 5,
   "metadata": {},
   "outputs": [
    {
     "data": {
      "text/plain": [
       "Cement                                float64\n",
       "Slag                                  float64\n",
       "Fly ash                               float64\n",
       "Water                                 float64\n",
       "SP                                    float64\n",
       "Coarse Aggr.                          float64\n",
       "Fine Aggr.                            float64\n",
       "SLUMP(cm)                             float64\n",
       "FLOW(cm)                              float64\n",
       "Compressive Strength (28-day)(Mpa)    float64\n",
       "dtype: object"
      ]
     },
     "execution_count": 5,
     "metadata": {},
     "output_type": "execute_result"
    }
   ],
   "source": [
    "df.dtypes"
   ]
  },
  {
   "cell_type": "code",
   "execution_count": 6,
   "metadata": {},
   "outputs": [
    {
     "data": {
      "text/plain": [
       "Cement                                0\n",
       "Slag                                  0\n",
       "Fly ash                               0\n",
       "Water                                 0\n",
       "SP                                    0\n",
       "Coarse Aggr.                          0\n",
       "Fine Aggr.                            0\n",
       "SLUMP(cm)                             0\n",
       "FLOW(cm)                              0\n",
       "Compressive Strength (28-day)(Mpa)    0\n",
       "dtype: int64"
      ]
     },
     "execution_count": 6,
     "metadata": {},
     "output_type": "execute_result"
    }
   ],
   "source": [
    "df.isnull().sum()"
   ]
  },
  {
   "cell_type": "code",
   "execution_count": 7,
   "metadata": {},
   "outputs": [
    {
     "data": {
      "image/png": "[encoded data removed]",
      "text/plain": [
       "<Figure size 1080x1800 with 10 Axes>"
      ]
     },
     "metadata": {
      "needs_background": "light"
     },
     "output_type": "display_data"
    }
   ],
   "source": [
    "#Checking for outliers\n",
    "plt.figure(figsize= (15,25))\n",
    "count = 1\n",
    "for col in df:\n",
    "    plt.subplot(5,2,count)\n",
    "    plt.boxplot(df[col])\n",
    "    plt.title(col)\n",
    "    count += 1\n",
    "    \n",
    "plt.show()"
   ]
  },
  {
   "cell_type": "code",
   "execution_count": 8,
   "metadata": {},
   "outputs": [
    {
     "data": {
      "text/html": [
       "<div>\n",
       "<style scoped>\n",
       "    .dataframe tbody tr th:only-of-type {\n",
       "        vertical-align: middle;\n",
       "    }\n",
       "\n",
       "    .dataframe tbody tr th {\n",
       "        vertical-align: top;\n",
       "    }\n",
       "\n",
       "    .dataframe thead th {\n",
       "        text-align: right;\n",
       "    }\n",
       "</style>\n",
       "<table border=\"1\" class=\"dataframe\">\n",
       "  <thead>\n",
       "    <tr style=\"text-align: right;\">\n",
       "      <th></th>\n",
       "      <th>Cement</th>\n",
       "      <th>Slag</th>\n",
       "      <th>Fly ash</th>\n",
       "      <th>Water</th>\n",
       "      <th>SP</th>\n",
       "      <th>Coarse Aggr.</th>\n",
       "      <th>Fine Aggr.</th>\n",
       "      <th>SLUMP(cm)</th>\n",
       "      <th>FLOW(cm)</th>\n",
       "      <th>Compressive Strength (28-day)(Mpa)</th>\n",
       "    </tr>\n",
       "  </thead>\n",
       "  <tbody>\n",
       "    <tr>\n",
       "      <th>Cement</th>\n",
       "      <td>1.000000</td>\n",
       "      <td>-0.243553</td>\n",
       "      <td>-0.486535</td>\n",
       "      <td>0.221091</td>\n",
       "      <td>-0.106387</td>\n",
       "      <td>-0.309857</td>\n",
       "      <td>0.056959</td>\n",
       "      <td>0.145913</td>\n",
       "      <td>0.186461</td>\n",
       "      <td>0.445656</td>\n",
       "    </tr>\n",
       "    <tr>\n",
       "      <th>Slag</th>\n",
       "      <td>-0.243553</td>\n",
       "      <td>1.000000</td>\n",
       "      <td>-0.322619</td>\n",
       "      <td>-0.026775</td>\n",
       "      <td>0.306504</td>\n",
       "      <td>-0.223792</td>\n",
       "      <td>-0.183522</td>\n",
       "      <td>-0.284037</td>\n",
       "      <td>-0.327231</td>\n",
       "      <td>-0.331522</td>\n",
       "    </tr>\n",
       "    <tr>\n",
       "      <th>Fly ash</th>\n",
       "      <td>-0.486535</td>\n",
       "      <td>-0.322619</td>\n",
       "      <td>1.000000</td>\n",
       "      <td>-0.241321</td>\n",
       "      <td>-0.143508</td>\n",
       "      <td>0.172620</td>\n",
       "      <td>-0.282854</td>\n",
       "      <td>-0.118621</td>\n",
       "      <td>-0.055423</td>\n",
       "      <td>0.444380</td>\n",
       "    </tr>\n",
       "    <tr>\n",
       "      <th>Water</th>\n",
       "      <td>0.221091</td>\n",
       "      <td>-0.026775</td>\n",
       "      <td>-0.241321</td>\n",
       "      <td>1.000000</td>\n",
       "      <td>-0.155456</td>\n",
       "      <td>-0.602201</td>\n",
       "      <td>0.114591</td>\n",
       "      <td>0.466568</td>\n",
       "      <td>0.632026</td>\n",
       "      <td>-0.254320</td>\n",
       "    </tr>\n",
       "    <tr>\n",
       "      <th>SP</th>\n",
       "      <td>-0.106387</td>\n",
       "      <td>0.306504</td>\n",
       "      <td>-0.143508</td>\n",
       "      <td>-0.155456</td>\n",
       "      <td>1.000000</td>\n",
       "      <td>-0.104159</td>\n",
       "      <td>0.058290</td>\n",
       "      <td>-0.212902</td>\n",
       "      <td>-0.176314</td>\n",
       "      <td>-0.037909</td>\n",
       "    </tr>\n",
       "    <tr>\n",
       "      <th>Coarse Aggr.</th>\n",
       "      <td>-0.309857</td>\n",
       "      <td>-0.223792</td>\n",
       "      <td>0.172620</td>\n",
       "      <td>-0.602201</td>\n",
       "      <td>-0.104159</td>\n",
       "      <td>1.000000</td>\n",
       "      <td>-0.488537</td>\n",
       "      <td>-0.188157</td>\n",
       "      <td>-0.325787</td>\n",
       "      <td>-0.160610</td>\n",
       "    </tr>\n",
       "    <tr>\n",
       "      <th>Fine Aggr.</th>\n",
       "      <td>0.056959</td>\n",
       "      <td>-0.183522</td>\n",
       "      <td>-0.282854</td>\n",
       "      <td>0.114591</td>\n",
       "      <td>0.058290</td>\n",
       "      <td>-0.488537</td>\n",
       "      <td>1.000000</td>\n",
       "      <td>0.202272</td>\n",
       "      <td>0.190370</td>\n",
       "      <td>-0.154532</td>\n",
       "    </tr>\n",
       "    <tr>\n",
       "      <th>SLUMP(cm)</th>\n",
       "      <td>0.145913</td>\n",
       "      <td>-0.284037</td>\n",
       "      <td>-0.118621</td>\n",
       "      <td>0.466568</td>\n",
       "      <td>-0.212902</td>\n",
       "      <td>-0.188157</td>\n",
       "      <td>0.202272</td>\n",
       "      <td>1.000000</td>\n",
       "      <td>0.906135</td>\n",
       "      <td>-0.223499</td>\n",
       "    </tr>\n",
       "    <tr>\n",
       "      <th>FLOW(cm)</th>\n",
       "      <td>0.186461</td>\n",
       "      <td>-0.327231</td>\n",
       "      <td>-0.055423</td>\n",
       "      <td>0.632026</td>\n",
       "      <td>-0.176314</td>\n",
       "      <td>-0.325787</td>\n",
       "      <td>0.190370</td>\n",
       "      <td>0.906135</td>\n",
       "      <td>1.000000</td>\n",
       "      <td>-0.124189</td>\n",
       "    </tr>\n",
       "    <tr>\n",
       "      <th>Compressive Strength (28-day)(Mpa)</th>\n",
       "      <td>0.445656</td>\n",
       "      <td>-0.331522</td>\n",
       "      <td>0.444380</td>\n",
       "      <td>-0.254320</td>\n",
       "      <td>-0.037909</td>\n",
       "      <td>-0.160610</td>\n",
       "      <td>-0.154532</td>\n",
       "      <td>-0.223499</td>\n",
       "      <td>-0.124189</td>\n",
       "      <td>1.000000</td>\n",
       "    </tr>\n",
       "  </tbody>\n",
       "</table>\n",
       "</div>"
      ],
      "text/plain": [
       "                                      Cement      Slag   Fly ash     Water  \\\n",
       "Cement                              1.000000 -0.243553 -0.486535  0.221091   \n",
       "Slag                               -0.243553  1.000000 -0.322619 -0.026775   \n",
       "Fly ash                            -0.486535 -0.322619  1.000000 -0.241321   \n",
       "Water                               0.221091 -0.026775 -0.241321  1.000000   \n",
       "SP                                 -0.106387  0.306504 -0.143508 -0.155456   \n",
       "Coarse Aggr.                       -0.309857 -0.223792  0.172620 -0.602201   \n",
       "Fine Aggr.                          0.056959 -0.183522 -0.282854  0.114591   \n",
       "SLUMP(cm)                           0.145913 -0.284037 -0.118621  0.466568   \n",
       "FLOW(cm)                            0.186461 -0.327231 -0.055423  0.632026   \n",
       "Compressive Strength (28-day)(Mpa)  0.445656 -0.331522  0.444380 -0.254320   \n",
       "\n",
       "                                          SP  Coarse Aggr.  Fine Aggr.  \\\n",
       "Cement                             -0.106387     -0.309857    0.056959   \n",
       "Slag                                0.306504     -0.223792   -0.183522   \n",
       "Fly ash                            -0.143508      0.172620   -0.282854   \n",
       "Water                              -0.155456     -0.602201    0.114591   \n",
       "SP                                  1.000000     -0.104159    0.058290   \n",
       "Coarse Aggr.                       -0.104159      1.000000   -0.488537   \n",
       "Fine Aggr.                          0.058290     -0.488537    1.000000   \n",
       "SLUMP(cm)                          -0.212902     -0.188157    0.202272   \n",
       "FLOW(cm)                           -0.176314     -0.325787    0.190370   \n",
       "Compressive Strength (28-day)(Mpa) -0.037909     -0.160610   -0.154532   \n",
       "\n",
       "                                    SLUMP(cm)  FLOW(cm)  \\\n",
       "Cement                               0.145913  0.186461   \n",
       "Slag                                -0.284037 -0.327231   \n",
       "Fly ash                             -0.118621 -0.055423   \n",
       "Water                                0.466568  0.632026   \n",
       "SP                                  -0.212902 -0.176314   \n",
       "Coarse Aggr.                        -0.188157 -0.325787   \n",
       "Fine Aggr.                           0.202272  0.190370   \n",
       "SLUMP(cm)                            1.000000  0.906135   \n",
       "FLOW(cm)                             0.906135  1.000000   \n",
       "Compressive Strength (28-day)(Mpa)  -0.223499 -0.124189   \n",
       "\n",
       "                                    Compressive Strength (28-day)(Mpa)  \n",
       "Cement                                                        0.445656  \n",
       "Slag                                                         -0.331522  \n",
       "Fly ash                                                       0.444380  \n",
       "Water                                                        -0.254320  \n",
       "SP                                                           -0.037909  \n",
       "Coarse Aggr.                                                 -0.160610  \n",
       "Fine Aggr.                                                   -0.154532  \n",
       "SLUMP(cm)                                                    -0.223499  \n",
       "FLOW(cm)                                                     -0.124189  \n",
       "Compressive Strength (28-day)(Mpa)                            1.000000  "
      ]
     },
     "execution_count": 8,
     "metadata": {},
     "output_type": "execute_result"
    }
   ],
   "source": [
    "df.corr()"
   ]
  },
  {
   "cell_type": "code",
   "execution_count": 9,
   "metadata": {},
   "outputs": [],
   "source": [
    "# Splitting in to X and y\n",
    "X= df.iloc[:, :-1].values\n",
    "y= df.iloc[:, -1].values"
   ]
  },
  {
   "cell_type": "code",
   "execution_count": 10,
   "metadata": {},
   "outputs": [
    {
     "data": {
      "text/plain": [
       "(103, 9)"
      ]
     },
     "execution_count": 10,
     "metadata": {},
     "output_type": "execute_result"
    }
   ],
   "source": [
    "X.shape"
   ]
  },
  {
   "cell_type": "code",
   "execution_count": 11,
   "metadata": {},
   "outputs": [
    {
     "data": {
      "text/plain": [
       "(103,)"
      ]
     },
     "execution_count": 11,
     "metadata": {},
     "output_type": "execute_result"
    }
   ],
   "source": [
    "y.shape"
   ]
  },
  {
   "cell_type": "code",
   "execution_count": 12,
   "metadata": {},
   "outputs": [],
   "source": [
    "y = y.reshape(-1,1)"
   ]
  },
  {
   "cell_type": "code",
   "execution_count": 13,
   "metadata": {},
   "outputs": [
    {
     "data": {
      "text/plain": [
       "(103, 1)"
      ]
     },
     "execution_count": 13,
     "metadata": {},
     "output_type": "execute_result"
    }
   ],
   "source": [
    "y.shape"
   ]
  },
  {
   "cell_type": "code",
   "execution_count": null,
   "metadata": {},
   "outputs": [],
   "source": []
  },
  {
   "cell_type": "code",
   "execution_count": 14,
   "metadata": {},
   "outputs": [],
   "source": [
    "# Splitting in to Train and test Dataset\n",
    "from sklearn.model_selection import train_test_split\n",
    "X_train, X_test, y_train, y_test = train_test_split(X, y, test_size = 0.2, random_state = 0)"
   ]
  },
  {
   "cell_type": "code",
   "execution_count": 15,
   "metadata": {},
   "outputs": [],
   "source": [
    "# Feature Scaling\n",
    "from sklearn.preprocessing import StandardScaler\n",
    "sc= StandardScaler()\n",
    "X_train = sc.fit_transform(X_train)\n",
    "X_test = sc.transform(X_test)"
   ]
  },
  {
   "cell_type": "code",
   "execution_count": 16,
   "metadata": {},
   "outputs": [],
   "source": [
    "from sklearn.neighbors import KNeighborsRegressor\n",
    "from sklearn.metrics import mean_squared_error, r2_score"
   ]
  },
  {
   "cell_type": "code",
   "execution_count": 17,
   "metadata": {},
   "outputs": [],
   "source": [
    "mse = []\n",
    "r2 = []\n",
    "for i in range(1,10):\n",
    "    model = KNeighborsRegressor(n_neighbors=i)\n",
    "    model.fit(X_train,y_train)\n",
    "    y_pred = model.predict(X_test)\n",
    "    mse_i = mean_squared_error(y_test,y_pred)\n",
    "    mse.append(mse_i)\n",
    "    r2_i = r2_score(y_test,y_pred)\n",
    "    r2.append(r2_i)"
   ]
  },
  {
   "cell_type": "code",
   "execution_count": 18,
   "metadata": {},
   "outputs": [
    {
     "data": {
      "image/png": "[encoded data removed]",
      "text/plain": [
       "<Figure size 576x576 with 1 Axes>"
      ]
     },
     "metadata": {
      "needs_background": "light"
     },
     "output_type": "display_data"
    }
   ],
   "source": [
    "plt.figure(figsize = (8,8))\n",
    "plt.plot(np.arange(1,10),mse,'r')\n",
    "plt.xlabel('k-value')\n",
    "plt.ylabel('mean-squared-error')\n",
    "plt.title('Selecting k-value')\n",
    "plt.show()"
   ]
  },
  {
   "cell_type": "code",
   "execution_count": 19,
   "metadata": {},
   "outputs": [],
   "source": [
    "# model Building\n",
    "regressor = KNeighborsRegressor(n_neighbors=2)\n",
    "regressor.fit(X_train, y_train)\n",
    "y_pred = regressor.predict(X_test)"
   ]
  },
  {
   "cell_type": "code",
   "execution_count": 22,
   "metadata": {},
   "outputs": [
    {
     "name": "stdout",
     "output_type": "stream",
     "text": [
      "r2-score:  0.8028411170170824\n"
     ]
    }
   ],
   "source": [
    "print(\"r2-score: \", r2_score(y_test, y_pred))"
   ]
  },
  {
   "cell_type": "code",
   "execution_count": null,
   "metadata": {},
   "outputs": [],
   "source": []
  }
 ],
 "metadata": {
  "kernelspec": {
   "display_name": "Python 3",
   "language": "python",
   "name": "python3"
  },
  "language_info": {
   "codemirror_mode": {
    "name": "ipython",
    "version": 3
   },
   "file_extension": ".py",
   "mimetype": "text/x-python",
   "name": "python",
   "nbconvert_exporter": "python",
   "pygments_lexer": "ipython3",
   "version": "3.7.6"
  }
 },
 "nbformat": 4,
 "nbformat_minor": 4
}
